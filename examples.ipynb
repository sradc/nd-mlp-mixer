{
 "cells": [
  {
   "cell_type": "code",
   "execution_count": 2,
   "id": "severe-history",
   "metadata": {},
   "outputs": [
    {
     "name": "stdout",
     "output_type": "stream",
     "text": [
      "WARNING:tensorflow:AutoGraph could not transform <function get_backend at 0x1344aad30> and will run it as-is.\n",
      "Please report this to the TensorFlow team. When filing the bug, set the verbosity to 10 (on Linux, `export AUTOGRAPH_VERBOSITY=10`) and attach the full output.\n",
      "Cause: module 'gast' has no attribute 'Index'\n",
      "To silence this warning, decorate the function with @tf.autograph.experimental.do_not_convert\n",
      "WARNING: AutoGraph could not transform <function get_backend at 0x1344aad30> and will run it as-is.\n",
      "Please report this to the TensorFlow team. When filing the bug, set the verbosity to 10 (on Linux, `export AUTOGRAPH_VERBOSITY=10`) and attach the full output.\n",
      "Cause: module 'gast' has no attribute 'Index'\n",
      "To silence this warning, decorate the function with @tf.autograph.experimental.do_not_convert\n",
      "WARNING:tensorflow:AutoGraph could not transform <bound method TensorflowBackend.shape of <einops backend for tensorflow>> and will run it as-is.\n",
      "Please report this to the TensorFlow team. When filing the bug, set the verbosity to 10 (on Linux, `export AUTOGRAPH_VERBOSITY=10`) and attach the full output.\n",
      "Cause: module 'gast' has no attribute 'Index'\n",
      "To silence this warning, decorate the function with @tf.autograph.experimental.do_not_convert\n",
      "WARNING: AutoGraph could not transform <bound method TensorflowBackend.shape of <einops backend for tensorflow>> and will run it as-is.\n",
      "Please report this to the TensorFlow team. When filing the bug, set the verbosity to 10 (on Linux, `export AUTOGRAPH_VERBOSITY=10`) and attach the full output.\n",
      "Cause: module 'gast' has no attribute 'Index'\n",
      "To silence this warning, decorate the function with @tf.autograph.experimental.do_not_convert\n",
      "WARNING:tensorflow:AutoGraph could not transform <function _reduce_axes at 0x1344d13a0> and will run it as-is.\n",
      "Please report this to the TensorFlow team. When filing the bug, set the verbosity to 10 (on Linux, `export AUTOGRAPH_VERBOSITY=10`) and attach the full output.\n",
      "Cause: module 'gast' has no attribute 'Index'\n",
      "To silence this warning, decorate the function with @tf.autograph.experimental.do_not_convert\n",
      "WARNING: AutoGraph could not transform <function _reduce_axes at 0x1344d13a0> and will run it as-is.\n",
      "Please report this to the TensorFlow team. When filing the bug, set the verbosity to 10 (on Linux, `export AUTOGRAPH_VERBOSITY=10`) and attach the full output.\n",
      "Cause: module 'gast' has no attribute 'Index'\n",
      "To silence this warning, decorate the function with @tf.autograph.experimental.do_not_convert\n",
      "WARNING:tensorflow:AutoGraph could not transform <function linear_on_axis at 0x134462e50> and will run it as-is.\n",
      "Please report this to the TensorFlow team. When filing the bug, set the verbosity to 10 (on Linux, `export AUTOGRAPH_VERBOSITY=10`) and attach the full output.\n",
      "Cause: module 'gast' has no attribute 'Index'\n",
      "To silence this warning, decorate the function with @tf.autograph.experimental.do_not_convert\n",
      "WARNING: AutoGraph could not transform <function linear_on_axis at 0x134462e50> and will run it as-is.\n",
      "Please report this to the TensorFlow team. When filing the bug, set the verbosity to 10 (on Linux, `export AUTOGRAPH_VERBOSITY=10`) and attach the full output.\n",
      "Cause: module 'gast' has no attribute 'Index'\n",
      "To silence this warning, decorate the function with @tf.autograph.experimental.do_not_convert\n",
      "Model: \"model\"\n",
      "_________________________________________________________________\n",
      "Layer (type)                 Output Shape              Param #   \n",
      "=================================================================\n",
      "input_1 (InputLayer)         [(None, 28, 28)]          0         \n",
      "_________________________________________________________________\n",
      "reshape (Reshape)            (None, 28, 28, 1)         0         \n",
      "_________________________________________________________________\n",
      "mlp_mixer (MLPMixer)         (None, 10)                10216     \n",
      "=================================================================\n",
      "Total params: 10,216\n",
      "Trainable params: 9,936\n",
      "Non-trainable params: 280\n",
      "_________________________________________________________________\n",
      "None\n",
      "Epoch 1/10\n",
      "938/938 - 13s - loss: 0.6421 - accuracy: 0.8043 - val_loss: 0.2618 - val_accuracy: 0.9216\n",
      "Epoch 2/10\n",
      "938/938 - 13s - loss: 0.2018 - accuracy: 0.9386 - val_loss: 0.1734 - val_accuracy: 0.9471\n",
      "Epoch 3/10\n",
      "938/938 - 13s - loss: 0.1567 - accuracy: 0.9517 - val_loss: 0.1337 - val_accuracy: 0.9586\n",
      "Epoch 4/10\n",
      "938/938 - 13s - loss: 0.1330 - accuracy: 0.9579 - val_loss: 0.1240 - val_accuracy: 0.9608\n",
      "Epoch 5/10\n",
      "938/938 - 13s - loss: 0.1199 - accuracy: 0.9619 - val_loss: 0.1167 - val_accuracy: 0.9632\n",
      "Epoch 6/10\n",
      "938/938 - 13s - loss: 0.1081 - accuracy: 0.9659 - val_loss: 0.1104 - val_accuracy: 0.9658\n",
      "Epoch 7/10\n",
      "938/938 - 13s - loss: 0.1006 - accuracy: 0.9678 - val_loss: 0.1065 - val_accuracy: 0.9647\n",
      "Epoch 8/10\n",
      "938/938 - 13s - loss: 0.0934 - accuracy: 0.9708 - val_loss: 0.1127 - val_accuracy: 0.9654\n",
      "Epoch 9/10\n",
      "938/938 - 13s - loss: 0.0886 - accuracy: 0.9725 - val_loss: 0.1029 - val_accuracy: 0.9699\n",
      "Epoch 10/10\n",
      "938/938 - 13s - loss: 0.0829 - accuracy: 0.9731 - val_loss: 0.1044 - val_accuracy: 0.9677\n"
     ]
    }
   ],
   "source": [
    "import tensorflow as tf\n",
    "from tensorflow.keras import datasets, layers\n",
    "from nd_mlp_mixer import MLPMixer\n",
    "\n",
    "# Load the data\n",
    "(train_images, train_labels), (test_images, test_labels) = datasets.mnist.load_data()\n",
    "train_images, test_images = train_images / 255.0, test_images / 255.0\n",
    "train_images, test_images = train_images.astype(\"float32\"), test_images.astype(\"float32\")\n",
    "height, width = train_images.shape[-2:]\n",
    "num_classes = 10\n",
    "\n",
    "# Prepare the model (add channel dimension to images)\n",
    "inputs = layers.Input(shape=(height, width))\n",
    "h = layers.Reshape([28, 28, 1])(inputs)\n",
    "mlp_mixer = MLPMixer(num_classes=10, \n",
    "                     num_blocks=2, \n",
    "                     patch_size=4, \n",
    "                     hidden_dim=28, \n",
    "                     tokens_mlp_dim=28,\n",
    "                     channels_mlp_dim=28)(h)\n",
    "model = tf.keras.Model(inputs=inputs, outputs=mlp_mixer)\n",
    "\n",
    "print(model.summary())\n",
    "model.compile(optimizer='adam',\n",
    "              loss=tf.keras.losses.SparseCategoricalCrossentropy(from_logits=True),\n",
    "              metrics=['accuracy'])\n",
    "history = model.fit(train_images, train_labels, batch_size=64, epochs=10,\n",
    "                    validation_data=(test_images, test_labels), verbose=2)"
   ]
  },
  {
   "cell_type": "code",
   "execution_count": 5,
   "id": "physical-owner",
   "metadata": {},
   "outputs": [
    {
     "data": {
      "image/png": "[encoded data removed]",
      "text/plain": [
       "<Figure size 432x288 with 1 Axes>"
      ]
     },
     "metadata": {
      "needs_background": "light"
     },
     "output_type": "display_data"
    }
   ],
   "source": [
    "import matplotlib.pyplot as plt\n",
    "\n",
    "plt.plot(history.history['accuracy'], label='accuracy')\n",
    "plt.plot(history.history['val_accuracy'], label = 'val_accuracy')\n",
    "plt.xlabel('Epoch')\n",
    "plt.ylabel('Accuracy')\n",
    "plt.ylim([.8, 1])\n",
    "plt.legend(loc='lower right')\n",
    "plt.show()"
   ]
  }
 ],
 "metadata": {
  "kernelspec": {
   "display_name": "Python [conda env:tf]",
   "language": "python",
   "name": "conda-env-tf-py"
  },
  "language_info": {
   "codemirror_mode": {
    "name": "ipython",
    "version": 3
   },
   "file_extension": ".py",
   "mimetype": "text/x-python",
   "name": "python",
   "nbconvert_exporter": "python",
   "pygments_lexer": "ipython3",
   "version": "3.8.8"
  }
 },
 "nbformat": 4,
 "nbformat_minor": 5
}
